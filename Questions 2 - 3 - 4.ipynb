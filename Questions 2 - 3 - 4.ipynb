{
 "cells": [
  {
   "cell_type": "code",
   "execution_count": null,
   "metadata": {},
   "outputs": [],
   "source": []
  },
  {
   "cell_type": "markdown",
   "metadata": {},
   "source": []
  },
  {
   "cell_type": "markdown",
   "metadata": {},
   "source": [
    "Second: Write a query that directly answers a predetermined question from a business stakeholder\n"
   ]
  },
  {
   "cell_type": "markdown",
   "metadata": {},
   "source": [
    "\n"
   ]
  },
  {
   "cell_type": "code",
   "execution_count": null,
   "metadata": {},
   "outputs": [],
   "source": [
    "# What are the top 5 brands by receipts scanned for most recent month?\n",
    "# I assume I code with Snowflake\n",
    "\n",
    "#question: How  to do you evalutate top? \n",
    "# a) even if a brand appears more than once we count it once\n",
    "# b) we count each time a brand appears in the ticket\n",
    "# c) we count it with the sum of quantity -- in this case\n",
    "\n",
    "\n",
    "\n",
    "SELECT BRAND\n",
    "FROM (\n",
    "    SELECT  B.NAME, \n",
    "            COUNT(DISTINCT(R.ID)) #  scenario a\n",
    "            COUNT(R.ID) # scenario b\n",
    "            SUM(ITQTY) # scenario c\n",
    "    SUM(ITQTY)\n",
    "    FROM RECEIPT R\n",
    "    LEFT JOIN  ITEM_LIST IT\n",
    "    ON R.ID = IT.ID\n",
    "    LEFT JOIN BRAND B\n",
    "    ON B.REWARDSPRODUCTPARTNERID = CPG_ID\n",
    "    WHERE DATEDD(MONTH, dateScanned, CURRENT_TIMESTAMPS) = 0\n",
    "    GROUP BY 1\n",
    "    ORDER BY 2 DESC\n",
    ")\n",
    "LIMIT 5;\n"
   ]
  },
  {
   "cell_type": "code",
   "execution_count": null,
   "metadata": {},
   "outputs": [],
   "source": []
  },
  {
   "cell_type": "markdown",
   "metadata": {},
   "source": [
    "Third: Evaluate Data Quality Issues in the Data Provided"
   ]
  },
  {
   "cell_type": "code",
   "execution_count": null,
   "metadata": {},
   "outputs": [],
   "source": []
  },
  {
   "cell_type": "code",
   "execution_count": null,
   "metadata": {},
   "outputs": [],
   "source": [
    "# PYTHON (I assume my file is a csv)\n",
    "\n",
    "#In the table User, I noticed two data quality issue:\n",
    "#    duplicates\n",
    "#    missing values\n",
    "\n",
    "import pandas as pd\n",
    "\n",
    "df = pd.read_csv(‘user.csv’)\n",
    "df.duplicated(subset = True)\n",
    "df.duplicates_drop(keep = first)\n",
    "\n",
    "pd.fillna(df[‘Created_date’], axis = 1)"
   ]
  },
  {
   "cell_type": "code",
   "execution_count": null,
   "metadata": {},
   "outputs": [],
   "source": [
    "# we can also solve it with SQL\n",
    "\n",
    "#DUPLICATED\n",
    "\n",
    "SELECT *\n",
    "FROM (SELECT   *,\n",
    "               ROW_NUMBER() OVER (PARTITION  BY ID ORDER BY ID) AS DUPLICATE_NUMBER\n",
    "      FROM USER)\n",
    "WHERE DUPLICATE _NUMBER  = 1\n",
    "\n",
    "#MISSING VALUES\n",
    "\n",
    "Select  id,\n",
    "        Createddate\n",
    "        COALESCE(LastLogin,Createddate) as LastLogin\n",
    "FROM USER\n"
   ]
  },
  {
   "cell_type": "markdown",
   "metadata": {},
   "source": [
    "Fourth: Communicate with Stakeholders\n",
    "\n",
    "Context: With the third exercise, data quality issue, we contact the product to explain and understand the situation."
   ]
  },
  {
   "cell_type": "markdown",
   "metadata": {},
   "source": [
    "Hi Product Team,\n",
    "\n",
    "With the analytical team, we attempt to segment our customers according to their frequency of connexion. However, we discover that some users do not have a record of their last login into the app \n",
    "We assume that a member, who only used the application to set up its account, does not have a record of their last login. Could you list the reasons why interaction with the app is not resulting in a visit? \n",
    "Our concerns are that if we don’t know the last login date, points will not be able to expire. In that case, we could use the date of the account creation. On the other hand, if we notice more than one use, we may replace the missing information with the date of the last receipt.\n",
    "\n",
    "Best,\n",
    "\n",
    "Aurelien\n"
   ]
  }
 ],
 "metadata": {
  "kernelspec": {
   "display_name": "Python 3",
   "language": "python",
   "name": "python3"
  },
  "language_info": {
   "codemirror_mode": {
    "name": "ipython",
    "version": 3
   },
   "file_extension": ".py",
   "mimetype": "text/x-python",
   "name": "python",
   "nbconvert_exporter": "python",
   "pygments_lexer": "ipython3",
   "version": "3.8.3"
  }
 },
 "nbformat": 4,
 "nbformat_minor": 4
}
